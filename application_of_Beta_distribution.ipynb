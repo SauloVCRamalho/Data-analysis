{
  "nbformat": 4,
  "nbformat_minor": 0,
  "metadata": {
    "colab": {
      "name": "application of Beta distribution",
      "provenance": [],
      "collapsed_sections": [],
      "authorship_tag": "ABX9TyNCkT7Lq/KVN6ho0puGDog5"
    },
    "kernelspec": {
      "name": "python3",
      "display_name": "Python 3"
    },
    "language_info": {
      "name": "python"
    }
  },
  "cells": [
    {
      "cell_type": "markdown",
      "source": [
        "**Objective:** Demonstrate and train beta distribution skills and the ability to apply them to problem solving."
      ],
      "metadata": {
        "id": "wgbkihEoa5HD"
      }
    },
    {
      "cell_type": "markdown",
      "source": [
        "Imagine that a company is developing a prototype of a piece of machinery, but for the project to be approved and move to production and commercialization, the board defined that the demonstrations have a success rate of at least 92%.\n",
        "\n",
        "During the presentation to the company's directors, tests were carried out and for 20 executions only 17 were successful. With that, management told the company's engineers to review the project from scratch, which could take a long time or cancel the project.\n",
        "\n",
        "The engineers who developed the project claim that the prototype has an efficiency of 94% and that not having passed the test does not mean that its efficiency is below 92%. The engineers then asked the board for a second chance with new tests. The problem with running new tests is that the tested parts would be unusable, generating a high cost per test for the company. And if the new test was not good enough, the expenses would go beyond a new test, making a project review necessary, costing much more money and time."
      ],
      "metadata": {
        "id": "qL77DKr70_NS"
      }
    },
    {
      "cell_type": "markdown",
      "source": [
        "What attitude should directors take in this situation? Data analysis using likelyhood and binomial and beta distributions can be a strong tool to help directors make a decision."
      ],
      "metadata": {
        "id": "8yjW6OpDaTx7"
      }
    },
    {
      "cell_type": "code",
      "source": [
        "#Importing package\n",
        "import pandas as pd\n",
        "import numpy as np\n",
        "import matplotlib.pyplot as plt\n",
        "from scipy.stats import binom\n",
        "from scipy.stats import beta"
      ],
      "metadata": {
        "id": "QyyNa7fYMtnt"
      },
      "execution_count": 5,
      "outputs": []
    },
    {
      "cell_type": "code",
      "source": [
        "#Binomial distribution\n",
        "#n -> the number of trials\n",
        "n = 20\n",
        "#p -> probability of successes\n",
        "p = 0.92\n",
        "#k -> number of successes\n",
        "# list of pmf values\n",
        "k_value = list(range(n + 1))\n",
        "prob = [binom.pmf(k, n, p) for k in k_value ]\n",
        "tab1=pd.DataFrame({'Success (k)': k_value ,'Probability':prob})\n",
        "tab1"
      ],
      "metadata": {
        "colab": {
          "base_uri": "https://localhost:8080/",
          "height": 708
        },
        "id": "9g3CbL6-M8ro",
        "outputId": "ef9387f5-616f-4cd7-ee43-05af10ade8f3"
      },
      "execution_count": 6,
      "outputs": [
        {
          "output_type": "execute_result",
          "data": {
            "text/plain": [
              "    Success (k)   Probability\n",
              "0             0  1.152922e-22\n",
              "1             1  2.651719e-20\n",
              "2             2  2.897004e-18\n",
              "3             3  1.998932e-16\n",
              "4             4  9.769782e-15\n",
              "5             5  3.595280e-13\n",
              "6             6  1.033643e-11\n",
              "7             7  2.377379e-10\n",
              "8             8  4.442727e-09\n",
              "9             9  6.812181e-08\n",
              "10           10  8.617409e-07\n",
              "11           11  9.009109e-06\n",
              "12           12  7.770357e-05\n",
              "13           13  5.499022e-04\n",
              "14           14  3.161937e-03\n",
              "15           15  1.454491e-02\n",
              "16           16  5.227078e-02\n",
              "17           17  1.414386e-01\n",
              "18           18  2.710906e-01\n",
              "19           19  3.281623e-01\n",
              "20           20  1.886933e-01"
            ],
            "text/html": [
              "\n",
              "  <div id=\"df-67c22a03-42a3-41ba-8999-abdc9bca7838\">\n",
              "    <div class=\"colab-df-container\">\n",
              "      <div>\n",
              "<style scoped>\n",
              "    .dataframe tbody tr th:only-of-type {\n",
              "        vertical-align: middle;\n",
              "    }\n",
              "\n",
              "    .dataframe tbody tr th {\n",
              "        vertical-align: top;\n",
              "    }\n",
              "\n",
              "    .dataframe thead th {\n",
              "        text-align: right;\n",
              "    }\n",
              "</style>\n",
              "<table border=\"1\" class=\"dataframe\">\n",
              "  <thead>\n",
              "    <tr style=\"text-align: right;\">\n",
              "      <th></th>\n",
              "      <th>Success (k)</th>\n",
              "      <th>Probability</th>\n",
              "    </tr>\n",
              "  </thead>\n",
              "  <tbody>\n",
              "    <tr>\n",
              "      <th>0</th>\n",
              "      <td>0</td>\n",
              "      <td>1.152922e-22</td>\n",
              "    </tr>\n",
              "    <tr>\n",
              "      <th>1</th>\n",
              "      <td>1</td>\n",
              "      <td>2.651719e-20</td>\n",
              "    </tr>\n",
              "    <tr>\n",
              "      <th>2</th>\n",
              "      <td>2</td>\n",
              "      <td>2.897004e-18</td>\n",
              "    </tr>\n",
              "    <tr>\n",
              "      <th>3</th>\n",
              "      <td>3</td>\n",
              "      <td>1.998932e-16</td>\n",
              "    </tr>\n",
              "    <tr>\n",
              "      <th>4</th>\n",
              "      <td>4</td>\n",
              "      <td>9.769782e-15</td>\n",
              "    </tr>\n",
              "    <tr>\n",
              "      <th>5</th>\n",
              "      <td>5</td>\n",
              "      <td>3.595280e-13</td>\n",
              "    </tr>\n",
              "    <tr>\n",
              "      <th>6</th>\n",
              "      <td>6</td>\n",
              "      <td>1.033643e-11</td>\n",
              "    </tr>\n",
              "    <tr>\n",
              "      <th>7</th>\n",
              "      <td>7</td>\n",
              "      <td>2.377379e-10</td>\n",
              "    </tr>\n",
              "    <tr>\n",
              "      <th>8</th>\n",
              "      <td>8</td>\n",
              "      <td>4.442727e-09</td>\n",
              "    </tr>\n",
              "    <tr>\n",
              "      <th>9</th>\n",
              "      <td>9</td>\n",
              "      <td>6.812181e-08</td>\n",
              "    </tr>\n",
              "    <tr>\n",
              "      <th>10</th>\n",
              "      <td>10</td>\n",
              "      <td>8.617409e-07</td>\n",
              "    </tr>\n",
              "    <tr>\n",
              "      <th>11</th>\n",
              "      <td>11</td>\n",
              "      <td>9.009109e-06</td>\n",
              "    </tr>\n",
              "    <tr>\n",
              "      <th>12</th>\n",
              "      <td>12</td>\n",
              "      <td>7.770357e-05</td>\n",
              "    </tr>\n",
              "    <tr>\n",
              "      <th>13</th>\n",
              "      <td>13</td>\n",
              "      <td>5.499022e-04</td>\n",
              "    </tr>\n",
              "    <tr>\n",
              "      <th>14</th>\n",
              "      <td>14</td>\n",
              "      <td>3.161937e-03</td>\n",
              "    </tr>\n",
              "    <tr>\n",
              "      <th>15</th>\n",
              "      <td>15</td>\n",
              "      <td>1.454491e-02</td>\n",
              "    </tr>\n",
              "    <tr>\n",
              "      <th>16</th>\n",
              "      <td>16</td>\n",
              "      <td>5.227078e-02</td>\n",
              "    </tr>\n",
              "    <tr>\n",
              "      <th>17</th>\n",
              "      <td>17</td>\n",
              "      <td>1.414386e-01</td>\n",
              "    </tr>\n",
              "    <tr>\n",
              "      <th>18</th>\n",
              "      <td>18</td>\n",
              "      <td>2.710906e-01</td>\n",
              "    </tr>\n",
              "    <tr>\n",
              "      <th>19</th>\n",
              "      <td>19</td>\n",
              "      <td>3.281623e-01</td>\n",
              "    </tr>\n",
              "    <tr>\n",
              "      <th>20</th>\n",
              "      <td>20</td>\n",
              "      <td>1.886933e-01</td>\n",
              "    </tr>\n",
              "  </tbody>\n",
              "</table>\n",
              "</div>\n",
              "      <button class=\"colab-df-convert\" onclick=\"convertToInteractive('df-67c22a03-42a3-41ba-8999-abdc9bca7838')\"\n",
              "              title=\"Convert this dataframe to an interactive table.\"\n",
              "              style=\"display:none;\">\n",
              "        \n",
              "  <svg xmlns=\"http://www.w3.org/2000/svg\" height=\"24px\"viewBox=\"0 0 24 24\"\n",
              "       width=\"24px\">\n",
              "    <path d=\"M0 0h24v24H0V0z\" fill=\"none\"/>\n",
              "    <path d=\"M18.56 5.44l.94 2.06.94-2.06 2.06-.94-2.06-.94-.94-2.06-.94 2.06-2.06.94zm-11 1L8.5 8.5l.94-2.06 2.06-.94-2.06-.94L8.5 2.5l-.94 2.06-2.06.94zm10 10l.94 2.06.94-2.06 2.06-.94-2.06-.94-.94-2.06-.94 2.06-2.06.94z\"/><path d=\"M17.41 7.96l-1.37-1.37c-.4-.4-.92-.59-1.43-.59-.52 0-1.04.2-1.43.59L10.3 9.45l-7.72 7.72c-.78.78-.78 2.05 0 2.83L4 21.41c.39.39.9.59 1.41.59.51 0 1.02-.2 1.41-.59l7.78-7.78 2.81-2.81c.8-.78.8-2.07 0-2.86zM5.41 20L4 18.59l7.72-7.72 1.47 1.35L5.41 20z\"/>\n",
              "  </svg>\n",
              "      </button>\n",
              "      \n",
              "  <style>\n",
              "    .colab-df-container {\n",
              "      display:flex;\n",
              "      flex-wrap:wrap;\n",
              "      gap: 12px;\n",
              "    }\n",
              "\n",
              "    .colab-df-convert {\n",
              "      background-color: #E8F0FE;\n",
              "      border: none;\n",
              "      border-radius: 50%;\n",
              "      cursor: pointer;\n",
              "      display: none;\n",
              "      fill: #1967D2;\n",
              "      height: 32px;\n",
              "      padding: 0 0 0 0;\n",
              "      width: 32px;\n",
              "    }\n",
              "\n",
              "    .colab-df-convert:hover {\n",
              "      background-color: #E2EBFA;\n",
              "      box-shadow: 0px 1px 2px rgba(60, 64, 67, 0.3), 0px 1px 3px 1px rgba(60, 64, 67, 0.15);\n",
              "      fill: #174EA6;\n",
              "    }\n",
              "\n",
              "    [theme=dark] .colab-df-convert {\n",
              "      background-color: #3B4455;\n",
              "      fill: #D2E3FC;\n",
              "    }\n",
              "\n",
              "    [theme=dark] .colab-df-convert:hover {\n",
              "      background-color: #434B5C;\n",
              "      box-shadow: 0px 1px 3px 1px rgba(0, 0, 0, 0.15);\n",
              "      filter: drop-shadow(0px 1px 2px rgba(0, 0, 0, 0.3));\n",
              "      fill: #FFFFFF;\n",
              "    }\n",
              "  </style>\n",
              "\n",
              "      <script>\n",
              "        const buttonEl =\n",
              "          document.querySelector('#df-67c22a03-42a3-41ba-8999-abdc9bca7838 button.colab-df-convert');\n",
              "        buttonEl.style.display =\n",
              "          google.colab.kernel.accessAllowed ? 'block' : 'none';\n",
              "\n",
              "        async function convertToInteractive(key) {\n",
              "          const element = document.querySelector('#df-67c22a03-42a3-41ba-8999-abdc9bca7838');\n",
              "          const dataTable =\n",
              "            await google.colab.kernel.invokeFunction('convertToInteractive',\n",
              "                                                     [key], {});\n",
              "          if (!dataTable) return;\n",
              "\n",
              "          const docLinkHtml = 'Like what you see? Visit the ' +\n",
              "            '<a target=\"_blank\" href=https://colab.research.google.com/notebooks/data_table.ipynb>data table notebook</a>'\n",
              "            + ' to learn more about interactive tables.';\n",
              "          element.innerHTML = '';\n",
              "          dataTable['output_type'] = 'display_data';\n",
              "          await google.colab.output.renderOutput(dataTable, element);\n",
              "          const docLink = document.createElement('div');\n",
              "          docLink.innerHTML = docLinkHtml;\n",
              "          element.appendChild(docLink);\n",
              "        }\n",
              "      </script>\n",
              "    </div>\n",
              "  </div>\n",
              "  "
            ]
          },
          "metadata": {},
          "execution_count": 6
        }
      ]
    },
    {
      "cell_type": "code",
      "source": [
        "plt.bar(k_value, prob)\n",
        "plt.show()"
      ],
      "metadata": {
        "colab": {
          "base_uri": "https://localhost:8080/",
          "height": 265
        },
        "id": "JPZv_q56HraA",
        "outputId": "a6db0df7-d2b3-49c8-adc5-00fdf9a8f044"
      },
      "execution_count": 7,
      "outputs": [
        {
          "output_type": "display_data",
          "data": {
            "text/plain": [
              "<Figure size 432x288 with 1 Axes>"
            ],
            "image/png": "[encoded data removed]"
          },
          "metadata": {
            "needs_background": "light"
          }
        }
      ]
    },
    {
      "cell_type": "markdown",
      "source": [
        "With the binomial distribution we found that for the test proposed by the board where 92% efficiency was required, we would have a probability of 14.14% of obtaining 17 successes, 27.10% of obtaining 18 successes, 32.81% of having 19 successes and 18.86% of having 20 successes.\n",
        "\n",
        "We see that there is a chance that the prototype is within the required parameters and just had a bad result. So it is interesting to use the beta distribution in order to test the probability of the prototype efficiency being greater than 92%."
      ],
      "metadata": {
        "id": "_VDTkRZhBwNi"
      }
    },
    {
      "cell_type": "markdown",
      "source": [
        "# **Beta distribution**"
      ],
      "metadata": {
        "id": "Kp24eH-FIn5-"
      }
    },
    {
      "cell_type": "code",
      "source": [
        "a=17\n",
        "b=3\n",
        "#create list of elements for plot.\n",
        "x = np.linspace(beta.ppf(0.000001, a, b),beta.ppf(0.999, a, b), 200)\n",
        "# Plot the beta distribution\n",
        "plt.figure(figsize=(7,7))\n",
        "plt.xlim(0.3, 1)\n",
        "plt.plot(x, beta.pdf(x, a, b), 'r-')\n",
        "plt.title('Beta Distribution', fontsize='20')\n",
        "plt.xlabel('Efficiency values', fontsize='15')\n",
        "plt.ylabel('Likelyhood', fontsize='15')\n",
        "plt.show()"
      ],
      "metadata": {
        "colab": {
          "base_uri": "https://localhost:8080/",
          "height": 468
        },
        "id": "mZypx6L9SsY2",
        "outputId": "04ec2954-f603-422b-b20a-356a8442db70"
      },
      "execution_count": 8,
      "outputs": [
        {
          "output_type": "display_data",
          "data": {
            "text/plain": [
              "<Figure size 504x504 with 1 Axes>"
            ],
            "image/png": "[encoded data removed]"
          },
          "metadata": {
            "needs_background": "light"
          }
        }
      ]
    },
    {
      "cell_type": "code",
      "execution_count": 9,
      "metadata": {
        "colab": {
          "base_uri": "https://localhost:8080/"
        },
        "id": "fwgXIZJ7aHc0",
        "outputId": "7ebee7e8-9161-4caa-b988-62f2a1127cc2"
      },
      "outputs": [
        {
          "output_type": "stream",
          "name": "stdout",
          "text": [
            "0.19083796752947213\n"
          ]
        }
      ],
      "source": [
        "#Calculate for 92%\n",
        "p = 1.0 - beta.cdf(0.92, a, b)\n",
        "print(p)\n"
      ]
    },
    {
      "cell_type": "markdown",
      "source": [
        "This shows that the chances of the prototype efficiency being 92% or greater is 19.08%."
      ],
      "metadata": {
        "id": "nD6WF8KeOEnh"
      }
    },
    {
      "cell_type": "code",
      "source": [
        "first=0.7\n",
        "last=0.92\n",
        "region =1- beta.cdf(first, a, b)-(1-beta.cdf(last, a, b))\n",
        "print(region)\n"
      ],
      "metadata": {
        "colab": {
          "base_uri": "https://localhost:8080/"
        },
        "id": "5QOVyY0GQiKM",
        "outputId": "17863f74-30b2-4fe1-8b94-542a0894a764"
      },
      "execution_count": 10,
      "outputs": [
        {
          "output_type": "stream",
          "name": "stdout",
          "text": [
            "0.7629383493412699\n"
          ]
        }
      ]
    },
    {
      "cell_type": "markdown",
      "source": [
        "The prototype has a 76.29% chance of having an efficiency between 70% and 92%."
      ],
      "metadata": {
        "id": "QVCQWFwaU0U_"
      }
    }
  ]
}