{
  "nbformat": 4,
  "nbformat_minor": 0,
  "metadata": {
    "colab": {
      "name": "Normal_distribution.ipynb",
      "provenance": [],
      "collapsed_sections": [],
      "authorship_tag": "ABX9TyP8jDsvFBi5djMhp4KRMmpL"
    },
    "kernelspec": {
      "name": "python3",
      "display_name": "Python 3"
    },
    "language_info": {
      "name": "python"
    }
  },
  "cells": [
    {
      "cell_type": "markdown",
      "source": [
        "Objective: This work aims to show sufficient skills to apply concepts of Gaussian distribution (normal distribution) in business problems."
      ],
      "metadata": {
        "id": "NEIuGtEpDEG8"
      }
    },
    {
      "cell_type": "markdown",
      "source": [
        "Imagine that a free news site would like to know the average age of its readers, where that information would be useful in selecting advertisements within the site. The simplest way would be a small questionnaire that asks the age range of your users, even then we would have problems as many readers would ignore the questionnaire or answer more than once. It is possible to solve the problem of multiple votes by restricting the vote by IP number but we cannot force the user to answer the questionnaire.\n",
        " \n",
        "Since we can't get information from the total population that uses the site, so how do we know how much we can trust the average age group calculated from this small sample? One of the ways to discover the degree of confidence in our sample is to use the concepts of normal distribution and z-score.\n",
        "\n",
        "During the period of one week, the number of visitors who answered the questionnaire was 3,254 and the average age of visitors to the site is 36 with a standard deviation of 8.2.\n",
        "\n",
        "What is the mean age with a margin of error for the 98% confidence level?"
      ],
      "metadata": {
        "id": "wOnoVg6_PpLz"
      }
    },
    {
      "cell_type": "code",
      "source": [
        "# Clean values in memorie\n",
        "%reset -f"
      ],
      "metadata": {
        "id": "zkMenT4Uic50"
      },
      "execution_count": null,
      "outputs": []
    },
    {
      "cell_type": "code",
      "execution_count": null,
      "metadata": {
        "id": "zh_lVty8C9eW"
      },
      "outputs": [],
      "source": [
        "#importing packages\n",
        "from scipy.stats import norm\n",
        "import math as mt\n",
        "import matplotlib.pyplot as plt\n",
        "import numpy as np"
      ]
    },
    {
      "cell_type": "code",
      "source": [
        "# average age in questionnarie\n",
        "mean_q=36\n",
        "#sample standard deviation of ages in the questionnaire\n",
        "std_q=8.2\n",
        "# Level of confidence\n",
        "prob_q=0.98\n",
        "#number of ages in questionnaire\n",
        "n_q=3254"
      ],
      "metadata": {
        "id": "Nby4NSRWJswz"
      },
      "execution_count": null,
      "outputs": []
    },
    {
      "cell_type": "markdown",
      "source": [
        "Normal distribution"
      ],
      "metadata": {
        "id": "0hrc9b1ODQ-S"
      }
    },
    {
      "cell_type": "code",
      "source": [
        "#Creating Axis with Ages\n",
        "x_axis=np.arange(15,75,1)\n",
        "#creating a line that marks the average age of the sample\n",
        "plt.axvline(x=36, color=\"black\", linestyle=\"--\", label='Mean= 36')\n",
        "#creating a line that marks the upper limit of the sample standard deviation\n",
        "plt.axvline(x=mean_q+std_q, color='red', linestyle=\"--\", label='sample standard deviation')\n",
        "#creating lower limit of sample standard deviation\n",
        "plt.axvline(x=mean_q-std_q, color='red', linestyle=\"--\")\n",
        "#normal distribution plot\n",
        "plt.plot(x_axis, norm.pdf(x_axis, mean_q, std_q),label= 'Normal distribution')\n",
        "#criando um box com legendas\n",
        "plt.legend(fancybox=True, framealpha=1, shadow=True, borderpad=1)\n",
        "#creating a box with subtitles\n",
        "plt.title('Normal distribution')\n",
        "#show plot\n",
        "plt.show()"
      ],
      "metadata": {
        "colab": {
          "base_uri": "https://localhost:8080/",
          "height": 261
        },
        "id": "ExC4HH9X_R2n",
        "outputId": "d434183d-1999-4b0d-e073-40860da44e85"
      },
      "execution_count": null,
      "outputs": [
        {
          "output_type": "display_data",
          "data": {
            "text/plain": [
              "<Figure size 504x252 with 1 Axes>"
            ],
            "image/png": "[encoded data removed]"
          },
          "metadata": {
            "needs_background": "light"
          }
        }
      ]
    },
    {
      "cell_type": "markdown",
      "source": [
        "Our objective is to calculate the margin of error for the 90% confidence level. First we need to present the margin of error equation as:\n",
        "\\begin{eqnarray}\n",
        "E=\\pm z_c\\frac{ s}{\\sqrt{n}} \n",
        "\\end{eqnarray}\n",
        "where $z_c$ is the critical z-score, n is the number of elements in the sample, and $s$ is the sample standard deviation. The element $z_c$ can be calculated from the uniform distribution.\n"
      ],
      "metadata": {
        "id": "-hg8ehm6kTB7"
      }
    },
    {
      "cell_type": "code",
      "source": [
        "#defining critical value of Z-score\n",
        "def critical_z_value(p):\n",
        "  #defining uniform distribution\n",
        " norm_distribution = norm(loc=0.0, scale=1.0)\n",
        " #probability of left part\n",
        " left_area = (1.0 - p) / 2.0\n",
        " #probability of right part\n",
        " right_area = 1.0 - ((1.0 - p) / 2.0)\n",
        " #result\n",
        " return norm_distribution.ppf(left_area), norm_distribution.ppf(right_area)"
      ],
      "metadata": {
        "id": "tn6cNXZKITkt"
      },
      "execution_count": null,
      "outputs": []
    },
    {
      "cell_type": "code",
      "source": [
        "def confidence_interval(p, sample_mean, sample_std, n):\n",
        " # Sample size must be greater than 30\n",
        " lower, upper = critical_z_value(p)\n",
        " E_low = lower * (sample_std / np.sqrt(n))\n",
        " E_up = upper * (sample_std / np.sqrt(n))\n",
        " return sample_mean + E_low, sample_mean + E_up , E_up\n"
      ],
      "metadata": {
        "id": "W5MEMRvTJdq5"
      },
      "execution_count": null,
      "outputs": []
    },
    {
      "cell_type": "code",
      "source": [
        "print(confidence_interval(prob_q, mean_q, std_q, n_q))"
      ],
      "metadata": {
        "id": "di8thPqoJlIs",
        "colab": {
          "base_uri": "https://localhost:8080/"
        },
        "outputId": "a5db8083-d19e-44c8-860a-c78e2833045d"
      },
      "execution_count": null,
      "outputs": [
        {
          "output_type": "stream",
          "name": "stdout",
          "text": [
            "(35.66558963010093, 36.33441036989907, 0.33441036989907136)\n"
          ]
        }
      ]
    },
    {
      "cell_type": "code",
      "source": [
        "x_axis=np.arange(36-1,38,1)\n",
        "x1=np.arange(confidence_interval(prob_q, mean_q, std_q, n_q)[0], confidence_interval(prob_q, mean_q, std_q, n_q)[1]+0.01,0.01)\n",
        "plt.axvline(x=36, color=\"black\", linestyle=\"--\", label='Mean= 36')\n",
        "plt.axvline(x=confidence_interval(prob_q, mean_q, std_q, n_q)[1], color='red', linestyle=\"--\", label='Margin of Error')\n",
        "plt.axvline(x=confidence_interval(prob_q, mean_q, std_q, n_q)[0], color='red', linestyle=\"--\")\n",
        "plt.plot(x_axis, norm.pdf(x_axis, mean_q, std_q),label= 'Normal distribution')\n",
        "plt.legend(fancybox=True, framealpha=1, shadow=True, borderpad=1)\n",
        "plt.fill_between(x1, 0, norm.pdf(x1, mean_q, std_q), color='orange')\n",
        "plt.title('Margin of error in mean for 98%')\n",
        "plt.show()"
      ],
      "metadata": {
        "colab": {
          "base_uri": "https://localhost:8080/",
          "height": 261
        },
        "id": "KUIc6Ep8p3W5",
        "outputId": "fc5425a6-8bf6-45a1-ee3a-ba2a999fb3b6"
      },
      "execution_count": null,
      "outputs": [
        {
          "output_type": "display_data",
          "data": {
            "text/plain": [
              "<Figure size 504x252 with 1 Axes>"
            ],
            "image/png": "[encoded data removed]"
          },
          "metadata": {
            "needs_background": "light"
          }
        }
      ]
    },
    {
      "cell_type": "markdown",
      "source": [
        "The average age with margin of erroe for 98% confidence is $36 \\pm 0.334 $."
      ],
      "metadata": {
        "id": "9QZHNQ9f_TZ3"
      }
    }
  ]
}