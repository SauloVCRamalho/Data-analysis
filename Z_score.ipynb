{
  "nbformat": 4,
  "nbformat_minor": 0,
  "metadata": {
    "colab": {
      "name": "Z_score.ipynb",
      "provenance": [],
      "collapsed_sections": [],
      "authorship_tag": "ABX9TyPweu3F/tynJsyBVsPI79xj"
    },
    "kernelspec": {
      "name": "python3",
      "display_name": "Python 3"
    },
    "language_info": {
      "name": "python"
    }
  },
  "cells": [
    {
      "cell_type": "markdown",
      "source": [
        "Objective: Show technical capacity for application of Z-scores concepts in business."
      ],
      "metadata": {
        "id": "U93gXCOGXXlq"
      }
    },
    {
      "cell_type": "markdown",
      "source": [
        "Imagine the hypothetical situation where a real estate investor decides to acquire a logistical hangar and in this search he finds 3 hangars for sale in different cities, but he wants to acquire only one. For such an important decision, what could we do to help this investor?\n",
        "\n",
        "A data scientist could assist this investor by providing more information using the Z-score or coefficient of variation concept. In this work we will use only Z-score.\n",
        "\n",
        "\n",
        "First question we should ask is which parameters should we analyze? Among all the variables that we must consider for the valuation of a hangar, the main one should be the storage capacity, that is, the number of square meters. So first we will collect information from all the hangars that exist in each city with the same characteristics desired by the investor and we will create the price per square meter parameter."
      ],
      "metadata": {
        "id": "VvsIGFEld8l1"
      }
    },
    {
      "cell_type": "code",
      "source": [
        "import statistics as stat"
      ],
      "metadata": {
        "id": "cf34olEomLF8"
      },
      "execution_count": 13,
      "outputs": []
    },
    {
      "cell_type": "code",
      "source": [
        "# Value of hangar in city A.\n",
        "A=1985.4"
      ],
      "metadata": {
        "id": "rovcysSVmnOm"
      },
      "execution_count": 14,
      "outputs": []
    },
    {
      "cell_type": "code",
      "source": [
        "#List of price per meters in city A.\n",
        "city_A=[2250.0, 2142.85, 1916.66, 2010.5, 1250, 2000,1.600, 2233.3, 2118.9, 1866.2, 1985.5, \n",
        "        2000, 2800, 2454.9, 1366, 1200.7,1444.5, 2024.5, 1508.1, 1678.8, 1700.9,2007.4, \n",
        "        1306, 1920.8, 1780.5, 2350, 1788.5, 1900, 1708.6, 2010.5, 1989.1, 2022, 1985.4]"
      ],
      "metadata": {
        "id": "p1a6oDrSfWWG"
      },
      "execution_count": 15,
      "outputs": []
    },
    {
      "cell_type": "code",
      "source": [
        "mean_A=stat.mean(city_A)\n",
        "std_A=stat.pstdev(city_A)\n",
        "print('Mean value for city A is:', mean_A)\n",
        "print('standard deviation for city A is:',std_A)"
      ],
      "metadata": {
        "colab": {
          "base_uri": "https://localhost:8080/"
        },
        "id": "SJig3_jvirmI",
        "outputId": "b2b072dd-46d8-461c-f18c-bc0cb8d9ed08"
      },
      "execution_count": 16,
      "outputs": [
        {
          "output_type": "stream",
          "name": "stdout",
          "text": [
            "Mean value for city A is: 1840.0821212121211\n",
            "standard deviation for city A is: 470.96204555149234\n"
          ]
        }
      ]
    },
    {
      "cell_type": "code",
      "source": [
        "#Value of hangar in city B.\n",
        "B=1236.5"
      ],
      "metadata": {
        "id": "D8QPqMjan_7l"
      },
      "execution_count": 17,
      "outputs": []
    },
    {
      "cell_type": "code",
      "source": [
        "#List of price per meters in city B.\n",
        "city_B=[1250.0, 1460.7, 1100.5, 993.6, 1700.09,1573.23,1000.8, 1247, 1067.5,1144.08 ,1302.56, 1116.66,\n",
        "        907.21, 1472.3,1201.7, 1244.8, 800.6, 999.4, 1009.5, 1200.78,1188.4, 1300.6, 1678.7, 1355, 1215.6, 1346.7, \n",
        "        1156.09, 1401.63,1245.4, 1167.7, 1241.5, 1201.6, 1196.8 , 1236.5]"
      ],
      "metadata": {
        "id": "HUSiZPkGfpBs"
      },
      "execution_count": 18,
      "outputs": []
    },
    {
      "cell_type": "code",
      "source": [
        "mean_B=stat.mean(city_B)\n",
        "std_B=stat.pstdev(city_B)\n",
        "print('Mean value for city B is:', mean_B)\n",
        "print('standard deviation for city B is:', std_B)"
      ],
      "metadata": {
        "colab": {
          "base_uri": "https://localhost:8080/"
        },
        "id": "dATQxnn4sIK0",
        "outputId": "288c3fea-f634-4de4-a977-b0258d17a32c"
      },
      "execution_count": 19,
      "outputs": [
        {
          "output_type": "stream",
          "name": "stdout",
          "text": [
            "Mean value for city B is: 1227.2126470588234\n",
            "standard deviation for city B is: 195.47096720347926\n"
          ]
        }
      ]
    },
    {
      "cell_type": "code",
      "source": [
        "#Value of hangar in city C.\n",
        "C=1344.7"
      ],
      "metadata": {
        "id": "RocdQMxmsd30"
      },
      "execution_count": 20,
      "outputs": []
    },
    {
      "cell_type": "code",
      "source": [
        "#List of price per meters in city C.\n",
        "city_C=[800.2, 1399.0, 1409.7, 1544.86, 1098.23, 1223.5, 1109.42, 1632.7, 1222.9, 1295, 1168.1, 1076.07, 1345.9, 1476.87,\n",
        "        967.8, 1506.7, 1568.33, 1676.9, 1068.5, 993.4, 1321.7,982.5, 884.7, 1898.3, 1948.08, 887.3, 964, 1099.7, 2444.79,\n",
        "        999.4, 1573.8, 1194.2, 1302.8, 1131.8, 988.5, 1124.2, 1481.3, 1225.79, 1000.3, 1004.8, 955.2, 1345.04, 1344.7 ]"
      ],
      "metadata": {
        "id": "ujpqv5qQfruM"
      },
      "execution_count": 21,
      "outputs": []
    },
    {
      "cell_type": "code",
      "source": [
        "mean_C=stat.mean(city_C)\n",
        "std_C=stat.pstdev(city_C)\n",
        "print('Mean value for city C is:', mean_C)\n",
        "print('standard deviation for city C is:', std_C)"
      ],
      "metadata": {
        "colab": {
          "base_uri": "https://localhost:8080/"
        },
        "id": "gexH_3rmu8vu",
        "outputId": "fbfb4702-cbb3-4ddd-b69a-34107527884c"
      },
      "execution_count": 22,
      "outputs": [
        {
          "output_type": "stream",
          "name": "stdout",
          "text": [
            "Mean value for city C is: 1271.7902325581395\n",
            "standard deviation for city C is: 322.38911826295333\n"
          ]
        }
      ]
    },
    {
      "cell_type": "code",
      "execution_count": 23,
      "metadata": {
        "id": "gQrommfkWKO9"
      },
      "outputs": [],
      "source": [
        "#Create function that define z-score. There is function zscore in scipy package but I chose to declare the zscore function to show you how it works.\n",
        "def Z_score(x, mean, std):\n",
        "  return (x-mean)/std"
      ]
    },
    {
      "cell_type": "code",
      "source": [
        "#Showing Z_score for hangars in different cities.\n",
        "A_Z=Z_score(A, mean_A, std_A)\n",
        "B_Z=Z_score(B, mean_B, std_B)\n",
        "C_Z=Z_score(C, mean_C, std_C)\n",
        "print('Z-score for hangar of city A :', A_Z)\n",
        "print('Z-score for hangar of city B:', B_Z)\n",
        "print('Z-score for hangar of city C:', C_Z)"
      ],
      "metadata": {
        "colab": {
          "base_uri": "https://localhost:8080/"
        },
        "id": "LM4StJ02vRfH",
        "outputId": "40e1a389-d349-4a37-d347-90895b6cab57"
      },
      "execution_count": 24,
      "outputs": [
        {
          "output_type": "stream",
          "name": "stdout",
          "text": [
            "Z-score for hangar of city A : 0.308555392436588\n",
            "Z-score for hangar of city B: 0.047512697532768135\n",
            "Z-score for hangar of city C: 0.22615455457895606\n"
          ]
        }
      ]
    },
    {
      "cell_type": "markdown",
      "source": [
        "The Z-score value shows how much a value is offset from its population mean. Knowing that each city has different prices for different reasons, we decided to analyze how much the price varies in relation to other properties in the same city. It is possible to see that the Hangar that is for sale in city B has the lowest Z-score value, meaning that this value is cheaper than A and C the in relation to its respective cities."
      ],
      "metadata": {
        "id": "SJ08LWXCBUat"
      }
    }
  ]
}